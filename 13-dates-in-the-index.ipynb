{
 "cells": [
  {
   "cell_type": "markdown",
   "metadata": {},
   "source": [
    "# Chapter 13: Dates in the Index"
   ]
  },
  {
   "cell_type": "code",
   "execution_count": 3,
   "metadata": {},
   "outputs": [],
   "source": [
    "import pandas as pd\n",
    "import numpy as np"
   ]
  },
  {
   "cell_type": "code",
   "execution_count": 6,
   "metadata": {},
   "outputs": [],
   "source": [
    "url = 'https://github.com/mattharrison/datasets/raw/master/data/alta-noaa-1980-2019.csv'\n",
    "alta_df = pd.read_csv(url)\n",
    "dates = pd.to_datetime(alta_df.DATE)"
   ]
  },
  {
   "cell_type": "code",
   "execution_count": 7,
   "metadata": {},
   "outputs": [],
   "source": [
    "snow = (alta_df.SNOW.rename(dates))"
   ]
  },
  {
   "cell_type": "code",
   "execution_count": 9,
   "metadata": {},
   "outputs": [
    {
     "data": {
      "text/plain": [
       "1980-01-01    2.0\n",
       "1980-01-02    3.0\n",
       "1980-01-03    1.0\n",
       "1980-01-04    0.0\n",
       "1980-01-05    0.0\n",
       "             ... \n",
       "2019-09-03    0.0\n",
       "2019-09-04    0.0\n",
       "2019-09-05    0.0\n",
       "2019-09-06    0.0\n",
       "2019-09-07    0.0\n",
       "Name: SNOW, Length: 14160, dtype: float64"
      ]
     },
     "execution_count": 9,
     "metadata": {},
     "output_type": "execute_result"
    }
   ],
   "source": [
    "snow"
   ]
  },
  {
   "cell_type": "markdown",
   "metadata": {},
   "source": [
    "## 13.1 Finding Missing Data"
   ]
  },
  {
   "cell_type": "markdown",
   "metadata": {},
   "source": [
    "- Check is any values missing using ``.any``"
   ]
  },
  {
   "cell_type": "code",
   "execution_count": 10,
   "metadata": {},
   "outputs": [
    {
     "data": {
      "text/plain": [
       "True"
      ]
     },
     "execution_count": 10,
     "metadata": {},
     "output_type": "execute_result"
    }
   ],
   "source": [
    "snow.isna().any()"
   ]
  },
  {
   "cell_type": "code",
   "execution_count": 11,
   "metadata": {},
   "outputs": [
    {
     "data": {
      "text/plain": [
       "1985-07-30   NaN\n",
       "1985-09-12   NaN\n",
       "1985-09-19   NaN\n",
       "1986-02-07   NaN\n",
       "1986-06-26   NaN\n",
       "              ..\n",
       "2017-04-26   NaN\n",
       "2017-09-20   NaN\n",
       "2017-10-02   NaN\n",
       "2017-12-23   NaN\n",
       "2018-12-03   NaN\n",
       "Name: SNOW, Length: 365, dtype: float64"
      ]
     },
     "execution_count": 11,
     "metadata": {},
     "output_type": "execute_result"
    }
   ],
   "source": [
    "snow[snow.isna()]"
   ]
  },
  {
   "cell_type": "code",
   "execution_count": 12,
   "metadata": {},
   "outputs": [
    {
     "data": {
      "text/plain": [
       "1985-09-01    0.0\n",
       "1985-09-02    0.0\n",
       "1985-09-03    0.0\n",
       "1985-09-04    0.0\n",
       "1985-09-05    0.0\n",
       "1985-09-06    0.0\n",
       "1985-09-07    0.0\n",
       "1985-09-08    0.0\n",
       "1985-09-09    0.0\n",
       "1985-09-10    0.0\n",
       "1985-09-11    0.0\n",
       "1985-09-12    NaN\n",
       "1985-09-13    0.0\n",
       "1985-09-14    0.0\n",
       "1985-09-15    0.0\n",
       "1985-09-16    0.0\n",
       "1985-09-17    0.0\n",
       "1985-09-18    0.0\n",
       "1985-09-19    NaN\n",
       "1985-09-20    0.0\n",
       "Name: SNOW, dtype: float64"
      ]
     },
     "execution_count": 12,
     "metadata": {},
     "output_type": "execute_result"
    }
   ],
   "source": [
    "snow.loc['1985-09':'1985-09-20']"
   ]
  },
  {
   "cell_type": "markdown",
   "metadata": {},
   "source": [
    "## 13.2 Filling in Missing Data"
   ]
  },
  {
   "cell_type": "code",
   "execution_count": 13,
   "metadata": {},
   "outputs": [
    {
     "data": {
      "text/plain": [
       "1985-09-01    0.0\n",
       "1985-09-02    0.0\n",
       "1985-09-03    0.0\n",
       "1985-09-04    0.0\n",
       "1985-09-05    0.0\n",
       "1985-09-06    0.0\n",
       "1985-09-07    0.0\n",
       "1985-09-08    0.0\n",
       "1985-09-09    0.0\n",
       "1985-09-10    0.0\n",
       "1985-09-11    0.0\n",
       "1985-09-12    0.0\n",
       "1985-09-13    0.0\n",
       "1985-09-14    0.0\n",
       "1985-09-15    0.0\n",
       "1985-09-16    0.0\n",
       "1985-09-17    0.0\n",
       "1985-09-18    0.0\n",
       "1985-09-19    0.0\n",
       "1985-09-20    0.0\n",
       "Name: SNOW, dtype: float64"
      ]
     },
     "execution_count": 13,
     "metadata": {},
     "output_type": "execute_result"
    }
   ],
   "source": [
    "(snow\n",
    ".loc['1985-09': '1985-09-20']\n",
    ".fillna(0))"
   ]
  },
  {
   "cell_type": "markdown",
   "metadata": {},
   "source": [
    "## 13.3 Interpolation"
   ]
  },
  {
   "cell_type": "code",
   "execution_count": 14,
   "metadata": {},
   "outputs": [
    {
     "data": {
      "text/plain": [
       "1987-12-30    6.0\n",
       "1987-12-31    5.0\n",
       "1988-01-01    2.5\n",
       "1988-01-02    0.0\n",
       "1988-01-03    0.0\n",
       "1988-01-04    1.0\n",
       "1988-01-05    2.0\n",
       "1988-01-06    6.0\n",
       "1988-01-07    4.0\n",
       "1988-01-08    9.0\n",
       "1988-01-09    5.0\n",
       "1988-01-10    2.0\n",
       "Name: SNOW, dtype: float64"
      ]
     },
     "execution_count": 14,
     "metadata": {},
     "output_type": "execute_result"
    }
   ],
   "source": [
    "(snow\n",
    ".loc['1987-12-30':'1988-01-10']\n",
    ".interpolate())"
   ]
  },
  {
   "cell_type": "markdown",
   "metadata": {},
   "source": [
    "- Interpolate when it is winter and we are missing snow values\n",
    "- This corresponds to quarter 1 and 4\n",
    "- ``.where`` method keeps values where the first parameter is True"
   ]
  },
  {
   "cell_type": "code",
   "execution_count": 15,
   "metadata": {},
   "outputs": [],
   "source": [
    "winter = (snow.index.quarter == 1) | (snow.index.quarter==4)"
   ]
  },
  {
   "cell_type": "code",
   "execution_count": 16,
   "metadata": {},
   "outputs": [
    {
     "data": {
      "text/plain": [
       "array([ True,  True,  True, ..., False, False, False])"
      ]
     },
     "execution_count": 16,
     "metadata": {},
     "output_type": "execute_result"
    }
   ],
   "source": [
    "winter"
   ]
  },
  {
   "cell_type": "code",
   "execution_count": 17,
   "metadata": {},
   "outputs": [
    {
     "data": {
      "text/plain": [
       "1980-01-01    2.0\n",
       "1980-01-02    3.0\n",
       "1980-01-03    1.0\n",
       "1980-01-04    0.0\n",
       "1980-01-05    0.0\n",
       "             ... \n",
       "2019-09-03    0.0\n",
       "2019-09-04    0.0\n",
       "2019-09-05    0.0\n",
       "2019-09-06    0.0\n",
       "2019-09-07    0.0\n",
       "Name: SNOW, Length: 14160, dtype: float64"
      ]
     },
     "execution_count": 17,
     "metadata": {},
     "output_type": "execute_result"
    }
   ],
   "source": [
    "(snow\n",
    ".where(~(winter & snow.isna()), snow.interpolate())\n",
    ".where(~(~winter & snow.isna()), 0)\n",
    ")"
   ]
  },
  {
   "cell_type": "markdown",
   "metadata": {},
   "source": [
    "## 13.4 Dropping Missing Values"
   ]
  },
  {
   "cell_type": "code",
   "execution_count": 18,
   "metadata": {},
   "outputs": [
    {
     "data": {
      "text/plain": [
       "1987-12-30    6.0\n",
       "1987-12-31    5.0\n",
       "1988-01-02    0.0\n",
       "1988-01-03    0.0\n",
       "1988-01-05    2.0\n",
       "1988-01-06    6.0\n",
       "1988-01-07    4.0\n",
       "1988-01-08    9.0\n",
       "1988-01-09    5.0\n",
       "1988-01-10    2.0\n",
       "Name: SNOW, dtype: float64"
      ]
     },
     "execution_count": 18,
     "metadata": {},
     "output_type": "execute_result"
    }
   ],
   "source": [
    "(snow.loc['1987-12-30':'1988-01-10']\n",
    ".dropna())"
   ]
  },
  {
   "cell_type": "markdown",
   "metadata": {},
   "source": [
    "## 13.5 Shifting Data"
   ]
  },
  {
   "cell_type": "markdown",
   "metadata": {},
   "source": [
    "- Shift the data up or down"
   ]
  },
  {
   "cell_type": "code",
   "execution_count": 19,
   "metadata": {},
   "outputs": [
    {
     "data": {
      "text/plain": [
       "1980-01-01    NaN\n",
       "1980-01-02    2.0\n",
       "1980-01-03    3.0\n",
       "1980-01-04    1.0\n",
       "1980-01-05    0.0\n",
       "             ... \n",
       "2019-09-03    0.0\n",
       "2019-09-04    0.0\n",
       "2019-09-05    0.0\n",
       "2019-09-06    0.0\n",
       "2019-09-07    0.0\n",
       "Name: SNOW, Length: 14160, dtype: float64"
      ]
     },
     "execution_count": 19,
     "metadata": {},
     "output_type": "execute_result"
    }
   ],
   "source": [
    "snow.shift(1)"
   ]
  },
  {
   "cell_type": "markdown",
   "metadata": {},
   "source": [
    "## 13.5 Rolling Average"
   ]
  },
  {
   "cell_type": "markdown",
   "metadata": {},
   "source": [
    "- We can calculate five day moving average in two ways"
   ]
  },
  {
   "cell_type": "code",
   "execution_count": 20,
   "metadata": {},
   "outputs": [
    {
     "data": {
      "text/plain": [
       "1980-01-01    NaN\n",
       "1980-01-02    NaN\n",
       "1980-01-03    NaN\n",
       "1980-01-04    NaN\n",
       "1980-01-05    1.2\n",
       "             ... \n",
       "2019-09-03    0.0\n",
       "2019-09-04    0.0\n",
       "2019-09-05    0.0\n",
       "2019-09-06    0.0\n",
       "2019-09-07    0.0\n",
       "Name: SNOW, Length: 14160, dtype: float64"
      ]
     },
     "execution_count": 20,
     "metadata": {},
     "output_type": "execute_result"
    }
   ],
   "source": [
    "# method 1\n",
    "(snow\n",
    ".add(snow.shift(1))\n",
    ".add(snow.shift(2))\n",
    ".add(snow.shift(3))\n",
    ".add(snow.shift(4))\n",
    ".div(5))"
   ]
  },
  {
   "cell_type": "code",
   "execution_count": 21,
   "metadata": {},
   "outputs": [
    {
     "data": {
      "text/plain": [
       "1980-01-01    NaN\n",
       "1980-01-02    NaN\n",
       "1980-01-03    NaN\n",
       "1980-01-04    NaN\n",
       "1980-01-05    1.2\n",
       "             ... \n",
       "2019-09-03    0.0\n",
       "2019-09-04    0.0\n",
       "2019-09-05    0.0\n",
       "2019-09-06    0.0\n",
       "2019-09-07    0.0\n",
       "Name: SNOW, Length: 14160, dtype: float64"
      ]
     },
     "execution_count": 21,
     "metadata": {},
     "output_type": "execute_result"
    }
   ],
   "source": [
    "# method 2\n",
    "(snow\n",
    ".rolling(5)\n",
    ".mean())"
   ]
  },
  {
   "cell_type": "markdown",
   "metadata": {},
   "source": [
    "## 13.7 Resampling"
   ]
  },
  {
   "cell_type": "markdown",
   "metadata": {},
   "source": [
    "- We use the ``.resample`` method to aggregate values at different levels\n",
    "- If we have dates in the index, we can use the ``.resample`` method to aggregate at date frequencies\n",
    "- A a high level, we group date entries by some interval (yearly, monthly, weekly) and then aggregate the values at the interval\n",
    "- The 'M' string in the ``.resample`` call is called an offset alias. using M means group all values by the end of the month\n",
    "- If we want to aggregate at the end of every two months, we can use '2M' as the offset alias\n",
    "- If we want to aggregate the maximum value for each ski season which normally ends in May, we could use 'A-MAY' indicates that we want an annual grouping but ending in May of each year"
   ]
  },
  {
   "cell_type": "code",
   "execution_count": 22,
   "metadata": {},
   "outputs": [
    {
     "data": {
      "text/plain": [
       "1980-01-31    20.0\n",
       "1980-02-29    25.0\n",
       "1980-03-31    16.0\n",
       "1980-04-30    10.0\n",
       "1980-05-31     9.0\n",
       "              ... \n",
       "2019-05-31     5.1\n",
       "2019-06-30     0.0\n",
       "2019-07-31     0.0\n",
       "2019-08-31     0.0\n",
       "2019-09-30     0.0\n",
       "Freq: M, Name: SNOW, Length: 477, dtype: float64"
      ]
     },
     "execution_count": 22,
     "metadata": {},
     "output_type": "execute_result"
    }
   ],
   "source": [
    "# group all values by the end of the month\n",
    "(snow\n",
    ".resample('M')\n",
    ".max())"
   ]
  },
  {
   "cell_type": "code",
   "execution_count": 23,
   "metadata": {},
   "outputs": [
    {
     "data": {
      "text/plain": [
       "1980-01-31    20.0\n",
       "1980-03-31    25.0\n",
       "1980-05-31    10.0\n",
       "1980-07-31     1.0\n",
       "1980-09-30     0.0\n",
       "              ... \n",
       "2019-01-31    19.0\n",
       "2019-03-31    20.7\n",
       "2019-05-31    18.0\n",
       "2019-07-31     0.0\n",
       "2019-09-30     0.0\n",
       "Freq: 2M, Name: SNOW, Length: 239, dtype: float64"
      ]
     },
     "execution_count": 23,
     "metadata": {},
     "output_type": "execute_result"
    }
   ],
   "source": [
    "# group all values at the end of every two months\n",
    "(snow\n",
    ".resample('2M')\n",
    ".max())"
   ]
  },
  {
   "cell_type": "code",
   "execution_count": 24,
   "metadata": {},
   "outputs": [
    {
     "data": {
      "text/plain": [
       "1980-05-31    25.0\n",
       "1981-05-31    26.0\n",
       "1982-05-31    34.0\n",
       "1983-05-31    38.0\n",
       "1984-05-31    25.0\n",
       "1985-05-31    22.0\n",
       "1986-05-31    34.0\n",
       "1987-05-31    16.0\n",
       "1988-05-31    23.0\n",
       "1989-05-31    30.0\n",
       "1990-05-31    32.0\n",
       "1991-05-31    28.0\n",
       "1992-05-31    22.0\n",
       "1993-05-31    30.0\n",
       "1994-05-31    36.0\n",
       "1995-05-31    25.0\n",
       "1996-05-31    34.0\n",
       "1997-05-31    22.0\n",
       "1998-05-31    29.0\n",
       "1999-05-31    26.0\n",
       "2000-05-31    23.0\n",
       "2001-05-31    19.0\n",
       "2002-05-31    28.0\n",
       "2003-05-31    14.0\n",
       "2004-05-31    24.0\n",
       "2005-05-31    31.0\n",
       "2006-05-31    27.0\n",
       "2007-05-31    15.0\n",
       "2008-05-31    21.0\n",
       "2009-05-31    23.0\n",
       "2010-05-31    32.0\n",
       "2011-05-31    22.0\n",
       "2012-05-31    18.0\n",
       "2013-05-31    19.0\n",
       "2014-05-31    11.0\n",
       "2015-05-31    25.0\n",
       "2016-05-31    15.0\n",
       "2017-05-31    26.0\n",
       "2018-05-31    21.8\n",
       "2019-05-31    20.7\n",
       "2020-05-31     0.0\n",
       "Freq: A-MAY, Name: SNOW, dtype: float64"
      ]
     },
     "execution_count": 24,
     "metadata": {},
     "output_type": "execute_result"
    }
   ],
   "source": [
    "# group annually but ending in May\n",
    "(snow\n",
    ".resample('A-MAY')\n",
    ".max())"
   ]
  },
  {
   "cell_type": "markdown",
   "metadata": {},
   "source": [
    "## 13.8 Gathering Aggregate Values (But Keeping Index)"
   ]
  },
  {
   "cell_type": "markdown",
   "metadata": {},
   "source": [
    "- Instead of performing aggregation with ``.resample``, we leverage the ``.transform`` method\n",
    "- It works on aggregation groups but returns a series with original index"
   ]
  },
  {
   "cell_type": "code",
   "execution_count": 27,
   "metadata": {},
   "outputs": [
    {
     "data": {
      "text/plain": [
       "1980-01-01    0.527009\n",
       "1980-01-02    0.790514\n",
       "1980-01-03    0.263505\n",
       "1980-01-04    0.000000\n",
       "1980-01-05    0.000000\n",
       "                ...   \n",
       "2019-09-03    0.000000\n",
       "2019-09-04    0.000000\n",
       "2019-09-05    0.000000\n",
       "2019-09-06    0.000000\n",
       "2019-09-07    0.000000\n",
       "Name: SNOW, Length: 14160, dtype: float64"
      ]
     },
     "execution_count": 27,
     "metadata": {},
     "output_type": "execute_result"
    }
   ],
   "source": [
    "(snow\n",
    ".div(snow\n",
    "    .resample('Q')\n",
    "    .transform('sum'))\n",
    ".mul(100)\n",
    ".fillna(0)\n",
    ")"
   ]
  },
  {
   "cell_type": "markdown",
   "metadata": {},
   "source": [
    "- To compute the percentage of season's snowfall that fell during each month"
   ]
  },
  {
   "cell_type": "code",
   "execution_count": 31,
   "metadata": {},
   "outputs": [
    {
     "data": {
      "text/plain": [
       "2016-10-01    0.0\n",
       "2016-10-02    0.0\n",
       "2016-10-03    4.9\n",
       "2016-10-04    0.0\n",
       "2016-10-05    0.6\n",
       "             ... \n",
       "2017-05-27    0.0\n",
       "2017-05-28    0.0\n",
       "2017-05-29    0.0\n",
       "2017-05-30    0.0\n",
       "2017-05-31    0.0\n",
       "Name: SNOW, Length: 243, dtype: float64"
      ]
     },
     "execution_count": 31,
     "metadata": {},
     "output_type": "execute_result"
    }
   ],
   "source": [
    "season2017 = snow.loc['2016-10':'2017-05']\n",
    "season2017"
   ]
  },
  {
   "cell_type": "code",
   "execution_count": 29,
   "metadata": {},
   "outputs": [
    {
     "data": {
      "text/plain": [
       "2016-10-31     2.153969\n",
       "2016-11-30     9.772637\n",
       "2016-12-31    15.715995\n",
       "2017-01-31    25.468688\n",
       "2017-02-28    21.041085\n",
       "2017-03-31     9.274033\n",
       "2017-04-30    14.738732\n",
       "2017-05-31     1.834862\n",
       "Freq: M, Name: SNOW, dtype: float64"
      ]
     },
     "execution_count": 29,
     "metadata": {},
     "output_type": "execute_result"
    }
   ],
   "source": [
    "(season2017\n",
    ".resample('M')\n",
    ".sum()\n",
    ".div(season2017\n",
    "     .sum())\n",
    ".mul(100)\n",
    ")"
   ]
  },
  {
   "cell_type": "markdown",
   "metadata": {},
   "source": [
    "## 13.9 Groupby Operations"
   ]
  },
  {
   "cell_type": "code",
   "execution_count": 32,
   "metadata": {},
   "outputs": [],
   "source": [
    "def season(idx):\n",
    "    \"\"\"\n",
    "    Function that will determine ski season by \n",
    "    looking at the index with date information\n",
    "    \"\"\"\n",
    "    year = idx.year\n",
    "    month = idx.month\n",
    "    return year.where((month < 10), year+1)"
   ]
  },
  {
   "cell_type": "code",
   "execution_count": 51,
   "metadata": {},
   "outputs": [
    {
     "data": {
      "text/plain": [
       "1980    457.5\n",
       "1981    503.0\n",
       "1982    842.5\n",
       "1983    807.5\n",
       "1984    816.0\n",
       "1985    536.0\n",
       "1986    740.8\n",
       "1987    243.1\n",
       "1988    314.5\n",
       "1989    429.5\n",
       "1990    331.5\n",
       "1991    504.7\n",
       "1992    340.8\n",
       "1993    683.5\n",
       "1994    321.0\n",
       "1995    645.0\n",
       "1996    525.5\n",
       "1997    563.6\n",
       "1998    579.6\n",
       "1999    435.7\n",
       "2000    453.0\n",
       "2001    468.0\n",
       "2002    457.8\n",
       "2003    365.4\n",
       "2004    514.0\n",
       "2005    472.0\n",
       "2006    594.6\n",
       "2007    319.7\n",
       "2008    606.0\n",
       "2009    476.8\n",
       "2010    391.0\n",
       "2011    533.8\n",
       "2012    293.5\n",
       "2013    362.8\n",
       "2014    358.7\n",
       "2015    284.3\n",
       "2016    354.6\n",
       "2017    524.0\n",
       "2018    308.8\n",
       "2019    504.5\n",
       "Name: SNOW, dtype: float64"
      ]
     },
     "execution_count": 51,
     "metadata": {},
     "output_type": "execute_result"
    }
   ],
   "source": [
    "(snow\n",
    ".groupby(season)\n",
    ".sum())"
   ]
  },
  {
   "cell_type": "markdown",
   "metadata": {},
   "source": [
    "- If we have dates in the index, we can use the ``.resample`` method to aggregate at date frequencies\n",
    "- The ``.transform`` method will take the resulting aggregates and place them back in the cell that contributed to the value"
   ]
  },
  {
   "cell_type": "code",
   "execution_count": 52,
   "metadata": {},
   "outputs": [
    {
     "data": {
      "text/plain": [
       "1980-01-31    144.0\n",
       "1980-02-29    112.5\n",
       "1980-03-31    123.0\n",
       "1980-04-30     30.0\n",
       "1980-05-31     47.0\n",
       "              ...  \n",
       "2019-05-31     26.0\n",
       "2019-06-30      0.0\n",
       "2019-07-31      0.0\n",
       "2019-08-31      0.0\n",
       "2019-09-30      0.0\n",
       "Freq: M, Name: SNOW, Length: 477, dtype: float64"
      ]
     },
     "execution_count": 52,
     "metadata": {},
     "output_type": "execute_result"
    }
   ],
   "source": [
    "(snow\n",
    ".resample('M')\n",
    ".sum())"
   ]
  },
  {
   "cell_type": "code",
   "execution_count": 54,
   "metadata": {},
   "outputs": [
    {
     "data": {
      "text/plain": [
       "1980-01-01    144.0\n",
       "1980-01-02    144.0\n",
       "1980-01-03    144.0\n",
       "1980-01-04    144.0\n",
       "1980-01-05    144.0\n",
       "              ...  \n",
       "2019-09-03      0.0\n",
       "2019-09-04      0.0\n",
       "2019-09-05      0.0\n",
       "2019-09-06      0.0\n",
       "2019-09-07      0.0\n",
       "Name: SNOW, Length: 14160, dtype: float64"
      ]
     },
     "execution_count": 54,
     "metadata": {},
     "output_type": "execute_result"
    }
   ],
   "source": [
    "(snow\n",
    ".resample('M')\n",
    ".transform('sum')\n",
    ")"
   ]
  },
  {
   "cell_type": "markdown",
   "metadata": {},
   "source": [
    "## 13.10 Cumulative Operations"
   ]
  },
  {
   "cell_type": "markdown",
   "metadata": {},
   "source": [
    "- ``.cummin``: returns cumulative minimum\n",
    "- ``.cummax``: returns cumulative maximum\n",
    "- ``.cumprod``: returns cumulative product\n",
    "- ``.cumsum``: returns cumulative sum"
   ]
  },
  {
   "cell_type": "code",
   "execution_count": 55,
   "metadata": {},
   "outputs": [
    {
     "data": {
      "text/plain": [
       "2016-10-01      0.0\n",
       "2016-10-02      0.0\n",
       "2016-10-03      4.9\n",
       "2016-10-04      4.9\n",
       "2016-10-05      5.5\n",
       "              ...  \n",
       "2017-09-26    524.0\n",
       "2017-09-27    524.0\n",
       "2017-09-28    524.0\n",
       "2017-09-29    524.0\n",
       "2017-09-30    524.0\n",
       "Name: SNOW, Length: 364, dtype: float64"
      ]
     },
     "execution_count": 55,
     "metadata": {},
     "output_type": "execute_result"
    }
   ],
   "source": [
    "(snow\n",
    ".loc['2016-10':'2017-09']\n",
    ".cumsum())"
   ]
  },
  {
   "cell_type": "markdown",
   "metadata": {},
   "source": [
    "- If we wanted for every year"
   ]
  },
  {
   "cell_type": "code",
   "execution_count": 57,
   "metadata": {},
   "outputs": [
    {
     "data": {
      "text/plain": [
       "1980-01-01      2.0\n",
       "1980-01-02      5.0\n",
       "1980-01-03      6.0\n",
       "1980-01-04      6.0\n",
       "1980-01-05      6.0\n",
       "              ...  \n",
       "2019-09-03    504.5\n",
       "2019-09-04    504.5\n",
       "2019-09-05    504.5\n",
       "2019-09-06    504.5\n",
       "2019-09-07    504.5\n",
       "Name: SNOW, Length: 14160, dtype: float64"
      ]
     },
     "execution_count": 57,
     "metadata": {},
     "output_type": "execute_result"
    }
   ],
   "source": [
    "(snow\n",
    ".resample('A-SEP')\n",
    ".transform('cumsum'))"
   ]
  },
  {
   "cell_type": "code",
   "execution_count": 58,
   "metadata": {},
   "outputs": [
    {
     "data": {
      "text/plain": [
       "1980-01-01    2.0\n",
       "1980-01-02    3.0\n",
       "1980-01-03    1.0\n",
       "1980-01-04    0.0\n",
       "1980-01-05    0.0\n",
       "             ... \n",
       "2019-09-03    0.0\n",
       "2019-09-04    0.0\n",
       "2019-09-05    0.0\n",
       "2019-09-06    0.0\n",
       "2019-09-07    0.0\n",
       "Name: SNOW, Length: 14160, dtype: float64"
      ]
     },
     "execution_count": 58,
     "metadata": {},
     "output_type": "execute_result"
    }
   ],
   "source": [
    "snow"
   ]
  },
  {
   "cell_type": "markdown",
   "metadata": {},
   "source": [
    "## Exercises"
   ]
  },
  {
   "cell_type": "markdown",
   "metadata": {},
   "source": [
    "- Calculate the average value of the column for each month"
   ]
  },
  {
   "cell_type": "code",
   "execution_count": 60,
   "metadata": {},
   "outputs": [
    {
     "data": {
      "text/plain": [
       "1980-01-31    4.645161\n",
       "1980-02-29    3.879310\n",
       "1980-03-31    3.967742\n",
       "1980-04-30    1.000000\n",
       "1980-05-31    1.516129\n",
       "                ...   \n",
       "2019-05-31    0.838710\n",
       "2019-06-30    0.000000\n",
       "2019-07-31    0.000000\n",
       "2019-08-31    0.000000\n",
       "2019-09-30    0.000000\n",
       "Freq: M, Name: SNOW, Length: 477, dtype: float64"
      ]
     },
     "execution_count": 60,
     "metadata": {},
     "output_type": "execute_result"
    }
   ],
   "source": [
    "(snow\n",
    ".resample('M')\n",
    ".mean())"
   ]
  },
  {
   "cell_type": "markdown",
   "metadata": {},
   "source": [
    "- Calculate the average value of the column for every 2 months"
   ]
  },
  {
   "cell_type": "code",
   "execution_count": 61,
   "metadata": {},
   "outputs": [
    {
     "data": {
      "text/plain": [
       "1980-01-31    4.645161\n",
       "1980-03-31    3.925000\n",
       "1980-05-31    1.262295\n",
       "1980-07-31    0.016393\n",
       "1980-09-30    0.000000\n",
       "                ...   \n",
       "2019-01-31    2.459016\n",
       "2019-03-31    3.459322\n",
       "2019-05-31    1.342623\n",
       "2019-07-31    0.000000\n",
       "2019-09-30    0.000000\n",
       "Freq: 2M, Name: SNOW, Length: 239, dtype: float64"
      ]
     },
     "execution_count": 61,
     "metadata": {},
     "output_type": "execute_result"
    }
   ],
   "source": [
    "(snow\n",
    ".resample('2M')\n",
    ".mean())"
   ]
  },
  {
   "cell_type": "markdown",
   "metadata": {},
   "source": [
    "- Calculate the percentage of the column out of the total for each month"
   ]
  },
  {
   "cell_type": "code",
   "execution_count": 64,
   "metadata": {},
   "outputs": [
    {
     "data": {
      "text/plain": [
       "1980-01-31    0.747485\n",
       "1980-02-29    0.583973\n",
       "1980-03-31    0.638477\n",
       "1980-04-30    0.155726\n",
       "1980-05-31    0.243971\n",
       "                ...   \n",
       "2019-05-31    0.134963\n",
       "2019-06-30    0.000000\n",
       "2019-07-31    0.000000\n",
       "2019-08-31    0.000000\n",
       "2019-09-30    0.000000\n",
       "Freq: M, Name: SNOW, Length: 477, dtype: float64"
      ]
     },
     "execution_count": 64,
     "metadata": {},
     "output_type": "execute_result"
    }
   ],
   "source": [
    "(snow\n",
    ".resample('M')\n",
    ".sum()\n",
    ".div(snow\n",
    "     .sum())\n",
    ".mul(100)\n",
    ")"
   ]
  },
  {
   "cell_type": "markdown",
   "metadata": {},
   "source": [
    "- Calculate the value of the column for a rolling window of size 7"
   ]
  },
  {
   "cell_type": "code",
   "execution_count": 67,
   "metadata": {},
   "outputs": [
    {
     "data": {
      "text/plain": [
       "1980-01-01    NaN\n",
       "1980-01-02    NaN\n",
       "1980-01-03    NaN\n",
       "1980-01-04    NaN\n",
       "1980-01-05    NaN\n",
       "             ... \n",
       "2019-09-03    0.0\n",
       "2019-09-04    0.0\n",
       "2019-09-05    0.0\n",
       "2019-09-06    0.0\n",
       "2019-09-07    0.0\n",
       "Name: SNOW, Length: 14160, dtype: float64"
      ]
     },
     "execution_count": 67,
     "metadata": {},
     "output_type": "execute_result"
    }
   ],
   "source": [
    "# method 2\n",
    "(snow\n",
    ".rolling(7)\n",
    ".mean())"
   ]
  }
 ],
 "metadata": {
  "kernelspec": {
   "display_name": "Python 3.10.8 ('effective-pandas')",
   "language": "python",
   "name": "python3"
  },
  "language_info": {
   "codemirror_mode": {
    "name": "ipython",
    "version": 3
   },
   "file_extension": ".py",
   "mimetype": "text/x-python",
   "name": "python",
   "nbconvert_exporter": "python",
   "pygments_lexer": "ipython3",
   "version": "3.10.8"
  },
  "orig_nbformat": 4,
  "vscode": {
   "interpreter": {
    "hash": "916f15ef99c20fa40d55a2f85302b4abf960d09ddbbdff0ce9a6a05a29866fa2"
   }
  }
 },
 "nbformat": 4,
 "nbformat_minor": 2
}
