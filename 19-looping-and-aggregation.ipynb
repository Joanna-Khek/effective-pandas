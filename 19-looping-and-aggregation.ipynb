{
 "cells": [
  {
   "cell_type": "markdown",
   "metadata": {},
   "source": [
    "# Chapter 19: Looping and Aggregation"
   ]
  },
  {
   "cell_type": "markdown",
   "metadata": {},
   "source": [
    "- We may want to apply operations over items in a dataframe.\n",
    "- We can use the ``.apply`` method or an aggregation method"
   ]
  },
  {
   "cell_type": "markdown",
   "metadata": {},
   "source": [
    "Three methods to loop over a dataframe\n",
    "- ``.iteritems`` method gives you a tuple with a column name and the column (a series)\n",
    "- ``.iterrows`` method gives you a tuple with a index value and row (converted into a series)\n",
    "- ``.itertuples`` method gives you a row represented as a named tuple (with the index in position 0)"
   ]
  },
  {
   "cell_type": "code",
   "execution_count": 1,
   "metadata": {},
   "outputs": [],
   "source": [
    "import pandas as pd\n",
    "import numpy as np\n",
    "\n",
    "url = 'https://github.com/mattharrison/datasets/raw/master/data/siena2018-pres.csv'\n",
    "df = pd.read_csv(url, index_col=0)"
   ]
  },
  {
   "cell_type": "code",
   "execution_count": 2,
   "metadata": {},
   "outputs": [],
   "source": [
    "def tweak_siena_pres(df):\n",
    "    def int64_to_uint8(df_):\n",
    "        cols = df_.select_dtypes('int64')\n",
    "        return (df_\n",
    "                .astype({col:'uint8' for col in cols}))\n",
    "\n",
    "\n",
    "    return (df\n",
    "     .rename(columns={'Seq.':'Seq'})    # 1 removes period from column name Eq.\n",
    "     .rename(columns={k:v.replace(' ', '_') for k,v in\n",
    "        {'Bg': 'Background',\n",
    "         'PL': 'Party leadership', 'CAb': 'Communication ability',\n",
    "         'RC': 'Relations with Congress', 'CAp': 'Court appointments',\n",
    "         'HE': 'Handling of economy', 'L': 'Luck',\n",
    "         'AC': 'Ability to compromise', 'WR': 'Willing to take risks',\n",
    "         'EAp': 'Executive appointments', 'OA': 'Overall ability',\n",
    "         'Im': 'Imagination', 'DA': 'Domestic accomplishments',\n",
    "         'Int': 'Integrity', 'EAb': 'Executive ability',\n",
    "         'FPA': 'Foreign policy accomplishments',\n",
    "         'LA': 'Leadership ability',\n",
    "         'IQ': 'Intelligence', 'AM': 'Avoid crucial mistakes',\n",
    "         'EV': \"Experts' view\", 'O': 'Overall'}.items()})\n",
    "     .astype({'Party':'category'})  # 2 sets the type of Party column to category\n",
    "     .pipe(int64_to_uint8)  # 3 converts all the int64 columns to unsigned 8-bit columns\n",
    "     .assign(Average_rank=lambda df_:(df_.select_dtypes('uint8') # 4 creates am average_rank column\n",
    "                 .sum(axis=1).rank(method='dense').astype('uint8')),\n",
    "             Quartile=lambda df_:pd.qcut(df_.Average_rank, 4,\n",
    "                 labels='1st 2nd 3rd 4th'.split())\n",
    "            )\n",
    "    )"
   ]
  },
  {
   "cell_type": "code",
   "execution_count": 3,
   "metadata": {},
   "outputs": [],
   "source": [
    "pres = tweak_siena_pres(df)"
   ]
  },
  {
   "cell_type": "markdown",
   "metadata": {},
   "source": [
    "## 19.1 For Loops"
   ]
  },
  {
   "cell_type": "code",
   "execution_count": 7,
   "metadata": {},
   "outputs": [
    {
     "name": "stdout",
     "output_type": "stream",
     "text": [
      "Seq <class 'pandas.core.series.Series'>\n",
      "President <class 'pandas.core.series.Series'>\n",
      "Party <class 'pandas.core.series.Series'>\n",
      "Background <class 'pandas.core.series.Series'>\n",
      "Imagination <class 'pandas.core.series.Series'>\n",
      "Integrity <class 'pandas.core.series.Series'>\n",
      "Intelligence <class 'pandas.core.series.Series'>\n",
      "Luck <class 'pandas.core.series.Series'>\n",
      "Willing_to_take_risks <class 'pandas.core.series.Series'>\n",
      "Ability_to_compromise <class 'pandas.core.series.Series'>\n",
      "Executive_ability <class 'pandas.core.series.Series'>\n",
      "Leadership_ability <class 'pandas.core.series.Series'>\n",
      "Communication_ability <class 'pandas.core.series.Series'>\n",
      "Overall_ability <class 'pandas.core.series.Series'>\n",
      "Party_leadership <class 'pandas.core.series.Series'>\n",
      "Relations_with_Congress <class 'pandas.core.series.Series'>\n",
      "Court_appointments <class 'pandas.core.series.Series'>\n",
      "Handling_of_economy <class 'pandas.core.series.Series'>\n",
      "Executive_appointments <class 'pandas.core.series.Series'>\n",
      "Domestic_accomplishments <class 'pandas.core.series.Series'>\n",
      "Foreign_policy_accomplishments <class 'pandas.core.series.Series'>\n",
      "Avoid_crucial_mistakes <class 'pandas.core.series.Series'>\n",
      "Experts'_view <class 'pandas.core.series.Series'>\n",
      "Overall <class 'pandas.core.series.Series'>\n",
      "Average_rank <class 'pandas.core.series.Series'>\n",
      "Quartile <class 'pandas.core.series.Series'>\n"
     ]
    },
    {
     "name": "stderr",
     "output_type": "stream",
     "text": [
      "C:\\Users\\Joanna\\AppData\\Local\\Temp\\ipykernel_24788\\1989959997.py:2: FutureWarning: iteritems is deprecated and will be removed in a future version. Use .items instead.\n",
      "  for col_name, col in pres.iteritems():\n"
     ]
    }
   ],
   "source": [
    "# iteration over columns\n",
    "for col_name, col in pres.iteritems():\n",
    "    print(col_name, type(col))\n"
   ]
  },
  {
   "cell_type": "code",
   "execution_count": 9,
   "metadata": {},
   "outputs": [
    {
     "name": "stdout",
     "output_type": "stream",
     "text": [
      "1 <class 'pandas.core.series.Series'>\n",
      "2 <class 'pandas.core.series.Series'>\n",
      "3 <class 'pandas.core.series.Series'>\n",
      "4 <class 'pandas.core.series.Series'>\n",
      "5 <class 'pandas.core.series.Series'>\n",
      "6 <class 'pandas.core.series.Series'>\n",
      "7 <class 'pandas.core.series.Series'>\n",
      "8 <class 'pandas.core.series.Series'>\n",
      "9 <class 'pandas.core.series.Series'>\n",
      "10 <class 'pandas.core.series.Series'>\n",
      "11 <class 'pandas.core.series.Series'>\n",
      "12 <class 'pandas.core.series.Series'>\n",
      "13 <class 'pandas.core.series.Series'>\n",
      "14 <class 'pandas.core.series.Series'>\n",
      "15 <class 'pandas.core.series.Series'>\n",
      "16 <class 'pandas.core.series.Series'>\n",
      "17 <class 'pandas.core.series.Series'>\n",
      "18 <class 'pandas.core.series.Series'>\n",
      "19 <class 'pandas.core.series.Series'>\n",
      "20 <class 'pandas.core.series.Series'>\n",
      "21 <class 'pandas.core.series.Series'>\n",
      "22 <class 'pandas.core.series.Series'>\n",
      "23 <class 'pandas.core.series.Series'>\n",
      "24 <class 'pandas.core.series.Series'>\n",
      "25 <class 'pandas.core.series.Series'>\n",
      "26 <class 'pandas.core.series.Series'>\n",
      "27 <class 'pandas.core.series.Series'>\n",
      "28 <class 'pandas.core.series.Series'>\n",
      "29 <class 'pandas.core.series.Series'>\n",
      "30 <class 'pandas.core.series.Series'>\n",
      "31 <class 'pandas.core.series.Series'>\n",
      "32 <class 'pandas.core.series.Series'>\n",
      "33 <class 'pandas.core.series.Series'>\n",
      "34 <class 'pandas.core.series.Series'>\n",
      "35 <class 'pandas.core.series.Series'>\n",
      "36 <class 'pandas.core.series.Series'>\n",
      "37 <class 'pandas.core.series.Series'>\n",
      "38 <class 'pandas.core.series.Series'>\n",
      "39 <class 'pandas.core.series.Series'>\n",
      "40 <class 'pandas.core.series.Series'>\n",
      "41 <class 'pandas.core.series.Series'>\n",
      "42 <class 'pandas.core.series.Series'>\n",
      "43 <class 'pandas.core.series.Series'>\n",
      "44 <class 'pandas.core.series.Series'>\n"
     ]
    }
   ],
   "source": [
    "# iteration over rows\n",
    "for idx, row in pres.iterrows():\n",
    "    print(idx, type(row))"
   ]
  },
  {
   "cell_type": "code",
   "execution_count": 11,
   "metadata": {},
   "outputs": [
    {
     "name": "stdout",
     "output_type": "stream",
     "text": [
      "1 Independent\n",
      "2 Federalist\n",
      "3 Democratic-Republican\n",
      "4 Democratic-Republican\n",
      "5 Democratic-Republican\n",
      "6 Democratic-Republican\n",
      "7 Democratic\n",
      "8 Democratic\n",
      "9 Whig\n",
      "10 Independent\n",
      "11 Democratic\n",
      "12 Whig\n",
      "13 Whig\n",
      "14 Democratic\n",
      "15 Democratic\n",
      "16 Republican\n",
      "17 Democratic\n",
      "18 Republican\n",
      "19 Republican\n",
      "20 Republican\n",
      "21 Republican\n",
      "22 Democratic\n",
      "23 Republican\n",
      "24 Republican\n",
      "25 Republican\n",
      "26 Republican\n",
      "27 Democratic\n",
      "28 Republican\n",
      "29 Republican\n",
      "30 Republican\n",
      "31 Democratic\n",
      "32 Democratic\n",
      "33 Republican\n",
      "34 Democratic\n",
      "35 Democratic\n",
      "36 Republican\n",
      "37 Republican\n",
      "38 Democratic\n",
      "39 Republican\n",
      "40 Republican\n",
      "41 Democratic\n",
      "42 Republican\n",
      "43 Democratic\n",
      "44 Republican\n"
     ]
    }
   ],
   "source": [
    "# iteration over rows as namedtuple\n",
    "for tup in pres.itertuples():\n",
    "    print(tup[0], tup.Party)"
   ]
  },
  {
   "cell_type": "markdown",
   "metadata": {},
   "source": [
    "## 19.3 The .apply Method"
   ]
  },
  {
   "cell_type": "markdown",
   "metadata": {},
   "source": [
    "- Like the series method, we should be wary of using the dataframe method\n",
    "- If dealing with numbers, we might want to see if we can operate in a vectorized way\n",
    "- When we call ``.apply`` on a dataframe, we work on the whole row or whole column."
   ]
  },
  {
   "cell_type": "code",
   "execution_count": 12,
   "metadata": {},
   "outputs": [
    {
     "data": {
      "text/plain": [
       "1     17\n",
       "2     28\n",
       "3     19\n",
       "4     16\n",
       "5     13\n",
       "6     28\n",
       "7     34\n",
       "8     18\n",
       "9     22\n",
       "10    19\n",
       "11    16\n",
       "12    15\n",
       "13     8\n",
       "14     3\n",
       "15     8\n",
       "16    27\n",
       "17    10\n",
       "18    21\n",
       "19    13\n",
       "20    21\n",
       "21    24\n",
       "22    12\n",
       "23     8\n",
       "24    21\n",
       "25    13\n",
       "26    19\n",
       "27    28\n",
       "28    10\n",
       "29    26\n",
       "30    31\n",
       "31    15\n",
       "32    27\n",
       "33    18\n",
       "34    28\n",
       "35    38\n",
       "36    31\n",
       "37    23\n",
       "38    35\n",
       "39    28\n",
       "40    19\n",
       "41    36\n",
       "42    24\n",
       "43    22\n",
       "44    34\n",
       "dtype: uint8"
      ]
     },
     "execution_count": 12,
     "metadata": {},
     "output_type": "execute_result"
    }
   ],
   "source": [
    "# using apply method\n",
    "# calls the function on each column\n",
    "(pres\n",
    ".select_dtypes('number')\n",
    ".apply(lambda row: row.max()-row.min(), axis='columns'))"
   ]
  },
  {
   "cell_type": "code",
   "execution_count": 13,
   "metadata": {},
   "outputs": [
    {
     "name": "stderr",
     "output_type": "stream",
     "text": [
      "C:\\Users\\Joanna\\AppData\\Local\\Temp\\ipykernel_24788\\4240171613.py:4: FutureWarning: Dropping of nuisance columns in DataFrame reductions (with 'numeric_only=None') is deprecated; in a future version this will raise TypeError.  Select only valid columns before calling the reduction.\n",
      "  .pipe(lambda df_:df_.max(axis='columns') - df.min(axis='columns')))\n"
     ]
    },
    {
     "data": {
      "text/plain": [
       "1     17\n",
       "2     28\n",
       "3     19\n",
       "4     16\n",
       "5     13\n",
       "6     28\n",
       "7     34\n",
       "8     18\n",
       "9     22\n",
       "10    19\n",
       "11    16\n",
       "12    15\n",
       "13     8\n",
       "14     3\n",
       "15     8\n",
       "16    27\n",
       "17    10\n",
       "18    21\n",
       "19    13\n",
       "20    21\n",
       "21    24\n",
       "22    12\n",
       "23     8\n",
       "24    21\n",
       "25    13\n",
       "26    19\n",
       "27    28\n",
       "28    10\n",
       "29    26\n",
       "30    31\n",
       "31    15\n",
       "32    27\n",
       "33    18\n",
       "34    28\n",
       "35    38\n",
       "36    31\n",
       "37    23\n",
       "38    35\n",
       "39    28\n",
       "40    19\n",
       "41    36\n",
       "42    24\n",
       "43    22\n",
       "44    34\n",
       "dtype: int64"
      ]
     },
     "execution_count": 13,
     "metadata": {},
     "output_type": "execute_result"
    }
   ],
   "source": [
    "# using a better method\n",
    "(pres\n",
    ".select_dtypes('number')\n",
    ".pipe(lambda df_:df_.max(axis='columns') - df.min(axis='columns')))"
   ]
  },
  {
   "cell_type": "code",
   "execution_count": null,
   "metadata": {},
   "outputs": [],
   "source": []
  }
 ],
 "metadata": {
  "kernelspec": {
   "display_name": "Python 3.10.8 ('effective-pandas')",
   "language": "python",
   "name": "python3"
  },
  "language_info": {
   "codemirror_mode": {
    "name": "ipython",
    "version": 3
   },
   "file_extension": ".py",
   "mimetype": "text/x-python",
   "name": "python",
   "nbconvert_exporter": "python",
   "pygments_lexer": "ipython3",
   "version": "3.10.8"
  },
  "orig_nbformat": 4,
  "vscode": {
   "interpreter": {
    "hash": "916f15ef99c20fa40d55a2f85302b4abf960d09ddbbdff0ce9a6a05a29866fa2"
   }
  }
 },
 "nbformat": 4,
 "nbformat_minor": 2
}
