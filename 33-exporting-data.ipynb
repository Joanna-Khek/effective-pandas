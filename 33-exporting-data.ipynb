{
 "cells": [
  {
   "attachments": {},
   "cell_type": "markdown",
   "metadata": {},
   "source": [
    "# Chapter 33: Exporting Data"
   ]
  },
  {
   "cell_type": "code",
   "execution_count": 1,
   "metadata": {},
   "outputs": [
    {
     "name": "stderr",
     "output_type": "stream",
     "text": [
      "C:\\Users\\Joanna\\AppData\\Local\\Temp\\ipykernel_24624\\2388328972.py:4: DtypeWarning: Columns (7) have mixed types. Specify dtype option on import or set low_memory=False.\n",
      "  df = pd.read_csv(url, skiprows=lambda num: num <34 or num == 35,\n"
     ]
    }
   ],
   "source": [
    "import pandas as pd\n",
    "url = 'https://github.com/mattharrison/datasets/raw/master'\\\n",
    "      '/data/dirtydevil.txt'\n",
    "df = pd.read_csv(url, skiprows=lambda num: num <34 or num == 35,\n",
    "                 sep='\\t')"
   ]
  },
  {
   "cell_type": "code",
   "execution_count": 2,
   "metadata": {},
   "outputs": [],
   "source": [
    "def to_denver_time(df_, time_col, tz_col):\n",
    "    return (df_\n",
    "       .assign(**{tz_col: df_[tz_col].replace('MDT', 'MST7MDT')})\n",
    "       .groupby(tz_col)\n",
    "       [time_col]\n",
    "       .transform(lambda s: pd.to_datetime(s)\n",
    "           .dt.tz_localize(s.name, ambiguous=True)\n",
    "           .dt.tz_convert('America/Denver'))\n",
    "    )"
   ]
  },
  {
   "cell_type": "code",
   "execution_count": 3,
   "metadata": {},
   "outputs": [],
   "source": [
    "def tweak_river(df_):\n",
    "    return (df_\n",
    "     .assign(datetime=to_denver_time(df_, 'datetime', 'tz_cd'))\n",
    "     .rename(columns={'144166_00060': 'cfs',\n",
    "                      '144167_00065': 'gage_height'})\n",
    "     .set_index('datetime')\n",
    "    )"
   ]
  },
  {
   "cell_type": "code",
   "execution_count": 4,
   "metadata": {},
   "outputs": [
    {
     "data": {
      "text/html": [
       "<div>\n",
       "<style scoped>\n",
       "    .dataframe tbody tr th:only-of-type {\n",
       "        vertical-align: middle;\n",
       "    }\n",
       "\n",
       "    .dataframe tbody tr th {\n",
       "        vertical-align: top;\n",
       "    }\n",
       "\n",
       "    .dataframe thead th {\n",
       "        text-align: right;\n",
       "    }\n",
       "</style>\n",
       "<table border=\"1\" class=\"dataframe\">\n",
       "  <thead>\n",
       "    <tr style=\"text-align: right;\">\n",
       "      <th></th>\n",
       "      <th>agency_cd</th>\n",
       "      <th>site_no</th>\n",
       "      <th>tz_cd</th>\n",
       "      <th>cfs</th>\n",
       "      <th>144166_00060_cd</th>\n",
       "      <th>gage_height</th>\n",
       "      <th>144167_00065_cd</th>\n",
       "    </tr>\n",
       "    <tr>\n",
       "      <th>datetime</th>\n",
       "      <th></th>\n",
       "      <th></th>\n",
       "      <th></th>\n",
       "      <th></th>\n",
       "      <th></th>\n",
       "      <th></th>\n",
       "      <th></th>\n",
       "    </tr>\n",
       "  </thead>\n",
       "  <tbody>\n",
       "    <tr>\n",
       "      <th>2001-05-07 01:00:00-06:00</th>\n",
       "      <td>USGS</td>\n",
       "      <td>9333500</td>\n",
       "      <td>MDT</td>\n",
       "      <td>71.00</td>\n",
       "      <td>A:[91]</td>\n",
       "      <td>NaN</td>\n",
       "      <td>NaN</td>\n",
       "    </tr>\n",
       "    <tr>\n",
       "      <th>2001-05-07 01:15:00-06:00</th>\n",
       "      <td>USGS</td>\n",
       "      <td>9333500</td>\n",
       "      <td>MDT</td>\n",
       "      <td>71.00</td>\n",
       "      <td>A:[91]</td>\n",
       "      <td>NaN</td>\n",
       "      <td>NaN</td>\n",
       "    </tr>\n",
       "    <tr>\n",
       "      <th>2001-05-07 01:30:00-06:00</th>\n",
       "      <td>USGS</td>\n",
       "      <td>9333500</td>\n",
       "      <td>MDT</td>\n",
       "      <td>71.00</td>\n",
       "      <td>A:[91]</td>\n",
       "      <td>NaN</td>\n",
       "      <td>NaN</td>\n",
       "    </tr>\n",
       "    <tr>\n",
       "      <th>2001-05-07 01:45:00-06:00</th>\n",
       "      <td>USGS</td>\n",
       "      <td>9333500</td>\n",
       "      <td>MDT</td>\n",
       "      <td>70.00</td>\n",
       "      <td>A:[91]</td>\n",
       "      <td>NaN</td>\n",
       "      <td>NaN</td>\n",
       "    </tr>\n",
       "    <tr>\n",
       "      <th>2001-05-07 02:00:00-06:00</th>\n",
       "      <td>USGS</td>\n",
       "      <td>9333500</td>\n",
       "      <td>MDT</td>\n",
       "      <td>70.00</td>\n",
       "      <td>A:[91]</td>\n",
       "      <td>NaN</td>\n",
       "      <td>NaN</td>\n",
       "    </tr>\n",
       "    <tr>\n",
       "      <th>...</th>\n",
       "      <td>...</td>\n",
       "      <td>...</td>\n",
       "      <td>...</td>\n",
       "      <td>...</td>\n",
       "      <td>...</td>\n",
       "      <td>...</td>\n",
       "      <td>...</td>\n",
       "    </tr>\n",
       "    <tr>\n",
       "      <th>2020-09-28 08:30:00-06:00</th>\n",
       "      <td>USGS</td>\n",
       "      <td>9333500</td>\n",
       "      <td>MDT</td>\n",
       "      <td>9.53</td>\n",
       "      <td>P</td>\n",
       "      <td>6.16</td>\n",
       "      <td>P</td>\n",
       "    </tr>\n",
       "    <tr>\n",
       "      <th>2020-09-28 08:45:00-06:00</th>\n",
       "      <td>USGS</td>\n",
       "      <td>9333500</td>\n",
       "      <td>MDT</td>\n",
       "      <td>9.20</td>\n",
       "      <td>P</td>\n",
       "      <td>6.15</td>\n",
       "      <td>P</td>\n",
       "    </tr>\n",
       "    <tr>\n",
       "      <th>2020-09-28 09:00:00-06:00</th>\n",
       "      <td>USGS</td>\n",
       "      <td>9333500</td>\n",
       "      <td>MDT</td>\n",
       "      <td>9.20</td>\n",
       "      <td>P</td>\n",
       "      <td>6.15</td>\n",
       "      <td>P</td>\n",
       "    </tr>\n",
       "    <tr>\n",
       "      <th>2020-09-28 09:15:00-06:00</th>\n",
       "      <td>USGS</td>\n",
       "      <td>9333500</td>\n",
       "      <td>MDT</td>\n",
       "      <td>9.20</td>\n",
       "      <td>P</td>\n",
       "      <td>6.15</td>\n",
       "      <td>P</td>\n",
       "    </tr>\n",
       "    <tr>\n",
       "      <th>2020-09-28 09:30:00-06:00</th>\n",
       "      <td>USGS</td>\n",
       "      <td>9333500</td>\n",
       "      <td>MDT</td>\n",
       "      <td>9.20</td>\n",
       "      <td>P</td>\n",
       "      <td>6.15</td>\n",
       "      <td>P</td>\n",
       "    </tr>\n",
       "  </tbody>\n",
       "</table>\n",
       "<p>539305 rows × 7 columns</p>\n",
       "</div>"
      ],
      "text/plain": [
       "                          agency_cd  site_no tz_cd    cfs 144166_00060_cd  \\\n",
       "datetime                                                                    \n",
       "2001-05-07 01:00:00-06:00      USGS  9333500   MDT  71.00          A:[91]   \n",
       "2001-05-07 01:15:00-06:00      USGS  9333500   MDT  71.00          A:[91]   \n",
       "2001-05-07 01:30:00-06:00      USGS  9333500   MDT  71.00          A:[91]   \n",
       "2001-05-07 01:45:00-06:00      USGS  9333500   MDT  70.00          A:[91]   \n",
       "2001-05-07 02:00:00-06:00      USGS  9333500   MDT  70.00          A:[91]   \n",
       "...                             ...      ...   ...    ...             ...   \n",
       "2020-09-28 08:30:00-06:00      USGS  9333500   MDT   9.53               P   \n",
       "2020-09-28 08:45:00-06:00      USGS  9333500   MDT   9.20               P   \n",
       "2020-09-28 09:00:00-06:00      USGS  9333500   MDT   9.20               P   \n",
       "2020-09-28 09:15:00-06:00      USGS  9333500   MDT   9.20               P   \n",
       "2020-09-28 09:30:00-06:00      USGS  9333500   MDT   9.20               P   \n",
       "\n",
       "                           gage_height 144167_00065_cd  \n",
       "datetime                                                \n",
       "2001-05-07 01:00:00-06:00          NaN             NaN  \n",
       "2001-05-07 01:15:00-06:00          NaN             NaN  \n",
       "2001-05-07 01:30:00-06:00          NaN             NaN  \n",
       "2001-05-07 01:45:00-06:00          NaN             NaN  \n",
       "2001-05-07 02:00:00-06:00          NaN             NaN  \n",
       "...                                ...             ...  \n",
       "2020-09-28 08:30:00-06:00         6.16               P  \n",
       "2020-09-28 08:45:00-06:00         6.15               P  \n",
       "2020-09-28 09:00:00-06:00         6.15               P  \n",
       "2020-09-28 09:15:00-06:00         6.15               P  \n",
       "2020-09-28 09:30:00-06:00         6.15               P  \n",
       "\n",
       "[539305 rows x 7 columns]"
      ]
     },
     "execution_count": 4,
     "metadata": {},
     "output_type": "execute_result"
    }
   ],
   "source": [
    "dd = tweak_river(df)\n",
    "dd"
   ]
  },
  {
   "attachments": {},
   "cell_type": "markdown",
   "metadata": {},
   "source": [
    "## 33.3 Creating CSV Files"
   ]
  },
  {
   "attachments": {},
   "cell_type": "markdown",
   "metadata": {},
   "source": [
    "- To write our data to file, we can use the ``.to_csv`` method.\n",
    "- Pandas will write the index values in a CSV but when reading a CSV, it will create a new index unless we specify a column for the index"
   ]
  },
  {
   "cell_type": "code",
   "execution_count": 7,
   "metadata": {},
   "outputs": [],
   "source": [
    "dd.to_csv('tmp/dd.csv')"
   ]
  },
  {
   "cell_type": "code",
   "execution_count": 8,
   "metadata": {},
   "outputs": [
    {
     "name": "stdout",
     "output_type": "stream",
     "text": [
      "datetime,agency_cd,site_no,tz_cd,cfs,144166_00060_cd,gage_height,144167_00065_cd\n",
      "2001-05-07 01:00:00-06:00,USGS,9333500,MDT,71.0,A:[91],,\n",
      "2001-05-07 01:15:00-06:00,USGS,9333500,MDT,71.0,A:[91],,\n",
      "2001-05-07 01:30:00-06:00,USGS,9333500,MDT,71.0,A:[91],,\n",
      "2001-05-07 01:45:00-06:00,USGS,9333500,MDT,70.0,A:[91],,\n",
      "2001-05-07 02:00:00-06:00,USGS,9333500,MDT,70.0,A:[91],,\n",
      "\n"
     ]
    }
   ],
   "source": [
    "print(dd.head(5).to_csv())"
   ]
  },
  {
   "cell_type": "code",
   "execution_count": 9,
   "metadata": {},
   "outputs": [
    {
     "name": "stderr",
     "output_type": "stream",
     "text": [
      "C:\\Users\\Joanna\\AppData\\Local\\Temp\\ipykernel_24624\\589952314.py:2: DtypeWarning: Columns (7) have mixed types. Specify dtype option on import or set low_memory=False.\n",
      "  dd2 = pd.read_csv('tmp/dd.csv', index_col='datetime')\n"
     ]
    }
   ],
   "source": [
    "# sitck datetime in the index\n",
    "dd2 = pd.read_csv('tmp/dd.csv', index_col='datetime')"
   ]
  },
  {
   "attachments": {},
   "cell_type": "markdown",
   "metadata": {},
   "source": [
    "## 33.4 Exporting to Excel"
   ]
  },
  {
   "attachments": {},
   "cell_type": "markdown",
   "metadata": {},
   "source": [
    "- We have to strip the timezone information before exporting to Excel"
   ]
  },
  {
   "cell_type": "code",
   "execution_count": 12,
   "metadata": {},
   "outputs": [],
   "source": [
    "import openpyxl"
   ]
  },
  {
   "cell_type": "code",
   "execution_count": 15,
   "metadata": {},
   "outputs": [],
   "source": [
    "(dd\n",
    " .reset_index()\n",
    " .assign(datetime=lambda df_: df_.datetime.dt.tz_convert(tz=None))\n",
    " .set_index('datetime')\n",
    " .to_excel('tmp/dd.xlsx')\n",
    ")"
   ]
  },
  {
   "attachments": {},
   "cell_type": "markdown",
   "metadata": {},
   "source": [
    "- We can write a spreadsheet that has multiple sheets"
   ]
  },
  {
   "cell_type": "code",
   "execution_count": 16,
   "metadata": {},
   "outputs": [],
   "source": [
    "writer = pd.ExcelWriter('tmp/dd2.xlsx')"
   ]
  },
  {
   "cell_type": "code",
   "execution_count": 17,
   "metadata": {},
   "outputs": [],
   "source": [
    "dd2 = (dd\n",
    "        .reset_index()\n",
    "        .assign(datetime=lambda df_:df_.datetime.dt.tz_convert(tz=None))\n",
    "        .set_index('datetime')\n",
    "        )"
   ]
  },
  {
   "cell_type": "code",
   "execution_count": 18,
   "metadata": {},
   "outputs": [],
   "source": [
    "(dd2\n",
    " .loc['2010':'2010-12-31']\n",
    " .to_excel(writer, sheet_name='2010'))"
   ]
  },
  {
   "cell_type": "code",
   "execution_count": 19,
   "metadata": {},
   "outputs": [],
   "source": [
    "(dd2\n",
    " .loc['2011':'2011-12-31']\n",
    " .to_excel(writer, sheet_name='2011'))"
   ]
  },
  {
   "cell_type": "code",
   "execution_count": 20,
   "metadata": {},
   "outputs": [
    {
     "name": "stderr",
     "output_type": "stream",
     "text": [
      "C:\\Users\\Joanna\\AppData\\Local\\Temp\\ipykernel_24624\\934276808.py:1: FutureWarning: save is not part of the public API, usage can give unexpected results and will be removed in a future version\n",
      "  writer.save()\n"
     ]
    }
   ],
   "source": [
    "writer.save()"
   ]
  },
  {
   "attachments": {},
   "cell_type": "markdown",
   "metadata": {},
   "source": [
    "## 33.6 SQL"
   ]
  },
  {
   "attachments": {},
   "cell_type": "markdown",
   "metadata": {},
   "source": [
    "- We can stick a data frame into SQL table with the ``.to_sql`` method."
   ]
  },
  {
   "cell_type": "code",
   "execution_count": 23,
   "metadata": {},
   "outputs": [
    {
     "data": {
      "text/plain": [
       "539305"
      ]
     },
     "execution_count": 23,
     "metadata": {},
     "output_type": "execute_result"
    }
   ],
   "source": [
    "import sqlite3\n",
    "\n",
    "con = sqlite3.connect('dd.db')\n",
    "dd.to_sql('dd', con, if_exists='replace')"
   ]
  },
  {
   "attachments": {},
   "cell_type": "markdown",
   "metadata": {},
   "source": [
    "- Read from database"
   ]
  },
  {
   "cell_type": "code",
   "execution_count": 24,
   "metadata": {},
   "outputs": [],
   "source": [
    "import sqlalchemy as sa \n",
    "\n",
    "eng = sa.create_engine('sqlite:///dd.db')\n",
    "sa_con = eng.connect()\n",
    "\n",
    "dd2 = pd.read_sql('dd', sa_con, index_col='datetime')"
   ]
  },
  {
   "attachments": {},
   "cell_type": "markdown",
   "metadata": {},
   "source": [
    "- Our index with timezone aware dates was stored with timezone data but when the data came out from the database, this information was dropped"
   ]
  },
  {
   "cell_type": "code",
   "execution_count": 26,
   "metadata": {},
   "outputs": [
    {
     "data": {
      "text/plain": [
       "False"
      ]
     },
     "execution_count": 26,
     "metadata": {},
     "output_type": "execute_result"
    }
   ],
   "source": [
    "dd2.equals(dd)"
   ]
  },
  {
   "cell_type": "code",
   "execution_count": 28,
   "metadata": {},
   "outputs": [
    {
     "data": {
      "text/plain": [
       "False"
      ]
     },
     "execution_count": 28,
     "metadata": {},
     "output_type": "execute_result"
    }
   ],
   "source": [
    "# update the index with timezone information\n",
    "(dd2  # doctest: +SKIP\n",
    " .reset_index()\n",
    " .assign(datetime=lambda df_: df_.datetime\n",
    "       .dt.tz_localize('America/Denver', ambiguous=False))\n",
    " .set_index('datetime')\n",
    " .equals(dd)\n",
    ")\n"
   ]
  },
  {
   "cell_type": "code",
   "execution_count": 29,
   "metadata": {},
   "outputs": [],
   "source": [
    "obj = dd.to_dict()"
   ]
  },
  {
   "cell_type": "code",
   "execution_count": 30,
   "metadata": {},
   "outputs": [
    {
     "data": {
      "text/plain": [
       "True"
      ]
     },
     "execution_count": 30,
     "metadata": {},
     "output_type": "execute_result"
    }
   ],
   "source": [
    "dd2 = pd.DataFrame.from_dict(obj)\n",
    "dd.equals(dd2)"
   ]
  }
 ],
 "metadata": {
  "kernelspec": {
   "display_name": "effective-pandas",
   "language": "python",
   "name": "python3"
  },
  "language_info": {
   "codemirror_mode": {
    "name": "ipython",
    "version": 3
   },
   "file_extension": ".py",
   "mimetype": "text/x-python",
   "name": "python",
   "nbconvert_exporter": "python",
   "pygments_lexer": "ipython3",
   "version": "3.10.8"
  },
  "orig_nbformat": 4,
  "vscode": {
   "interpreter": {
    "hash": "916f15ef99c20fa40d55a2f85302b4abf960d09ddbbdff0ce9a6a05a29866fa2"
   }
  }
 },
 "nbformat": 4,
 "nbformat_minor": 2
}
